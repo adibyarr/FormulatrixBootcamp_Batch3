{
 "cells": [
  {
   "cell_type": "code",
   "execution_count": 17,
   "metadata": {
    "dotnet_interactive": {
     "language": "csharp"
    },
    "polyglot_notebook": {
     "kernelName": "csharp"
    }
   },
   "outputs": [
    {
     "name": "stdout",
     "output_type": "stream",
     "text": [
      "Charlie\n",
      "Kalvin\n"
     ]
    }
   ],
   "source": [
    "string[] names = {\"Bari\", \"Kalvin\", \"Adam\", \"Charlie\"};\n",
    "\n",
    "var order = (from name in names orderby name ascending select name).Where(n => n.Length>5);\n",
    "\n",
    "foreach(var x in order) {\n",
    "    Console.WriteLine(x);\n",
    "}"
   ]
  },
  {
   "cell_type": "code",
   "execution_count": 18,
   "metadata": {
    "dotnet_interactive": {
     "language": "csharp"
    },
    "polyglot_notebook": {
     "kernelName": "csharp"
    }
   },
   "outputs": [
    {
     "ename": "Error",
     "evalue": "(1,1): error CS0305: Using the generic type 'List<T>' requires 1 type arguments\r\n(1,20): error CS0305: Using the generic type 'List<T>' requires 1 type arguments",
     "output_type": "error",
     "traceback": [
      "(1,1): error CS0305: Using the generic type 'List<T>' requires 1 type arguments\r\n",
      "(1,20): error CS0305: Using the generic type 'List<T>' requires 1 type arguments"
     ]
    }
   ],
   "source": []
  }
 ],
 "metadata": {
  "kernelspec": {
   "display_name": ".NET (C#)",
   "language": "C#",
   "name": ".net-csharp"
  },
  "language_info": {
   "name": "polyglot-notebook"
  },
  "polyglot_notebook": {
   "kernelInfo": {
    "defaultKernelName": "csharp",
    "items": [
     {
      "aliases": [],
      "languageName": "csharp",
      "name": "csharp"
     }
    ]
   }
  }
 },
 "nbformat": 4,
 "nbformat_minor": 2
}
